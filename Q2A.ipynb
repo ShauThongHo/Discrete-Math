{
  "nbformat": 4,
  "nbformat_minor": 0,
  "metadata": {
    "colab": {
      "provenance": [],
      "authorship_tag": "ABX9TyOe9xTaw86ty118M0aOV4oc",
      "include_colab_link": true
    },
    "kernelspec": {
      "name": "python3",
      "display_name": "Python 3"
    },
    "language_info": {
      "name": "python"
    }
  },
  "cells": [
    {
      "cell_type": "markdown",
      "metadata": {
        "id": "view-in-github",
        "colab_type": "text"
      },
      "source": [
        "<a href=\"https://colab.research.google.com/github/ShauThongHo/Discrete-Math/blob/main/Q2A.ipynb\" target=\"_parent\"><img src=\"https://colab.research.google.com/assets/colab-badge.svg\" alt=\"Open In Colab\"/></a>"
      ]
    },
    {
      "cell_type": "code",
      "execution_count": 1,
      "metadata": {
        "colab": {
          "base_uri": "https://localhost:8080/"
        },
        "id": "gJh7w4gPAUY1",
        "outputId": "b303e98a-99e5-4d9b-d89d-0744ed604444"
      },
      "outputs": [
        {
          "output_type": "stream",
          "name": "stdout",
          "text": [
            "CSV file 'anime_songs.csv' has been created successfully.\n"
          ]
        }
      ],
      "source": [
        "import csv\n",
        "\n",
        "# Data to be written to CSV\n",
        "data = [\n",
        "    [\"Anime\", \"Song Name\", \"YouTube URL\"],\n",
        "    [\"Attack on Titan\", \"ətˈæk 0N tάɪtn＜TFSv＞\", \"https://www.youtube.com/watch?v=JXvRKs2C1B4\"],\n",
        "    [\"Attack on Titan\", \"Ashes on The Fire\", \"https://www.youtube.com/watch?v=hp_6xJWnWQQ\"],\n",
        "    [\"Attack on Titan\", \"Red Swan\", \"https://www.youtube.com/watch?v=r1XE8ON8fos\"],\n",
        "    [\"Violet Evergarden\", \"Automemories\", \"https://www.youtube.com/watch?v=tFt3uyggrM4\"],\n",
        "    [\"Violet Evergarden\", \"Sincerely\", \"https://www.youtube.com/watch?v=uwph0dv9E6U\"],\n",
        "    [\"Violet Evergarden\", \"Across The Violet Sky\", \"https://www.youtube.com/watch?v=INlpoI3eS0I\"],\n",
        "    [\"Frieren: Beyond Journey's End\", \"Yuusha\", \"https://www.youtube.com/watch?v=-jGBp5HBLFs\"],\n",
        "    [\"Frieren: Beyond Journey's End\", \"Anytime Anywhere\", \"https://www.youtube.com/watch?v=mZD6xxq-eyI\"]\n",
        "]\n",
        "\n",
        "# Write to CSV file\n",
        "with open('anime_songs.csv', 'w', newline='', encoding='utf-8') as file:\n",
        "    writer = csv.writer(file)\n",
        "    writer.writerows(data)\n",
        "\n",
        "print(\"CSV file 'anime_songs.csv' has been created successfully.\")"
      ]
    }
  ]
}